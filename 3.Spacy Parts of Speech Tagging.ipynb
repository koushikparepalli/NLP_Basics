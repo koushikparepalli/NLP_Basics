{
 "cells": [
  {
   "cell_type": "markdown",
   "metadata": {},
   "source": [
    "# Parts of Speech Tagging\n",
    "\n",
    "Source: https://towardsdatascience.com/a-practitioners-guide-to-natural-language-processing-part-i-processing-understanding-text-9f4abfd13e72\n",
    "\n",
    "For any language, syntax and structure usually go hand in hand, where a set of specific rules, conventions, and principles govern the way words are combined into phrases; phrases get combines into clauses; and clauses get combined into sentences. \n",
    "\n",
    "Knowledge about the structure and syntax of language is helpful in many areas like text processing, annotation, and parsing for further operations such as text classification or summarization.\n",
    "\n",
    "__Parts of speech (POS)__ are specific lexical categories to which words are assigned, based on their syntactic context and role. Usually, words can fall into one of the following major categories.\n",
    "\n",
    "+ __N(oun)__: This usually denotes words that depict some object or entity, which may be living or nonliving. Some examples would be fox , dog , book , and so on. The POS tag symbol for nouns is N.\n",
    "\n",
    "+ __V(erb)__: Verbs are words that are used to describe certain actions, states, or occurrences. There are a wide variety of further subcategories, such as auxiliary, reflexive, and transitive verbs (and many more). Some typical examples of verbs would be running , jumping , read , and write . The POS tag symbol for verbs is V.\n",
    "\n",
    "+ __Adj(ective)__: Adjectives are words used to describe or qualify other words, typically nouns and noun phrases. The phrase beautiful flower has the noun (N) flower which is described or qualified using the adjective (ADJ) beautiful . The POS tag symbol for adjectives is ADJ .\n",
    "\n",
    "+ __Adv(erb)__: Adverbs usually act as modifiers for other words including nouns, adjectives, verbs, or other adverbs. The phrase very beautiful flower has the adverb (ADV) very , which modifies the adjective (ADJ) beautiful , indicating the degree to which the flower is beautiful. The POS tag symbol for adverbs is ADV.\n",
    "\n",
    "Besides these four major categories of parts of speech , there are other categories that occur frequently in the English language. These include pronouns, prepositions, interjections, conjunctions, determiners, and many others. Furthermore, each POS tag like the noun (N) can be further subdivided into categories like __singular nouns (NN)__, __singular proper nouns (NNP)__, and __plural nouns (NNS)__.\n",
    "\n",
    "The process of classifying and labeling POS tags for words called parts of speech tagging or POS tagging . "
   ]
  },
  {
   "cell_type": "code",
   "execution_count": 1,
   "metadata": {},
   "outputs": [
    {
     "data": {
      "text/plain": [
       "'This is NLP text processsing checker'"
      ]
     },
     "execution_count": 1,
     "metadata": {},
     "output_type": "execute_result"
    }
   ],
   "source": [
    "sentence = 'This is NLP text processsing checker'\n",
    "sentence"
   ]
  },
  {
   "cell_type": "code",
   "execution_count": 2,
   "metadata": {},
   "outputs": [
    {
     "data": {
      "text/plain": [
       "[('This', 'DT'),\n",
       " ('is', 'VBZ'),\n",
       " ('NLP', 'NNP'),\n",
       " ('text', 'NN'),\n",
       " ('processsing', 'NN'),\n",
       " ('checker', 'NN')]"
      ]
     },
     "execution_count": 2,
     "metadata": {},
     "output_type": "execute_result"
    }
   ],
   "source": [
    "import nltk\n",
    "\n",
    "nltk_pos_tagged = nltk.pos_tag(nltk.word_tokenize(sentence))\n",
    "nltk_pos_tagged"
   ]
  },
  {
   "cell_type": "code",
   "execution_count": 3,
   "metadata": {},
   "outputs": [
    {
     "data": {
      "text/html": [
       "<div>\n",
       "<style scoped>\n",
       "    .dataframe tbody tr th:only-of-type {\n",
       "        vertical-align: middle;\n",
       "    }\n",
       "\n",
       "    .dataframe tbody tr th {\n",
       "        vertical-align: top;\n",
       "    }\n",
       "\n",
       "    .dataframe thead th {\n",
       "        text-align: right;\n",
       "    }\n",
       "</style>\n",
       "<table border=\"1\" class=\"dataframe\">\n",
       "  <thead>\n",
       "    <tr style=\"text-align: right;\">\n",
       "      <th></th>\n",
       "      <th>0</th>\n",
       "      <th>1</th>\n",
       "      <th>2</th>\n",
       "      <th>3</th>\n",
       "      <th>4</th>\n",
       "      <th>5</th>\n",
       "    </tr>\n",
       "  </thead>\n",
       "  <tbody>\n",
       "    <tr>\n",
       "      <th>Word</th>\n",
       "      <td>This</td>\n",
       "      <td>is</td>\n",
       "      <td>NLP</td>\n",
       "      <td>text</td>\n",
       "      <td>processsing</td>\n",
       "      <td>checker</td>\n",
       "    </tr>\n",
       "    <tr>\n",
       "      <th>POS tag</th>\n",
       "      <td>DT</td>\n",
       "      <td>VBZ</td>\n",
       "      <td>NNP</td>\n",
       "      <td>NN</td>\n",
       "      <td>NN</td>\n",
       "      <td>NN</td>\n",
       "    </tr>\n",
       "  </tbody>\n",
       "</table>\n",
       "</div>"
      ],
      "text/plain": [
       "            0    1    2     3            4        5\n",
       "Word     This   is  NLP  text  processsing  checker\n",
       "POS tag    DT  VBZ  NNP    NN           NN       NN"
      ]
     },
     "execution_count": 3,
     "metadata": {},
     "output_type": "execute_result"
    }
   ],
   "source": [
    "import pandas as pd\n",
    "\n",
    "pd.DataFrame(nltk_pos_tagged, \n",
    "             columns=['Word', 'POS tag']).T"
   ]
  },
  {
   "cell_type": "code",
   "execution_count": 5,
   "metadata": {},
   "outputs": [],
   "source": [
    "import spacy\n",
    "\n",
    "nlp = spacy.load('en_core_web_sm', parse=False, tag=False, entity=False)"
   ]
  },
  {
   "cell_type": "code",
   "execution_count": 6,
   "metadata": {},
   "outputs": [
    {
     "data": {
      "text/plain": [
       "[(This, 'DT', 'DET'),\n",
       " (is, 'VBZ', 'VERB'),\n",
       " (NLP, 'NNP', 'PROPN'),\n",
       " (text, 'NN', 'NOUN'),\n",
       " (processsing, 'VBG', 'VERB'),\n",
       " (checker, 'NN', 'NOUN')]"
      ]
     },
     "execution_count": 6,
     "metadata": {},
     "output_type": "execute_result"
    }
   ],
   "source": [
    "sentence_nlp = nlp(sentence)\n",
    "spacy_pos_tagged = [(word, word.tag_, word.pos_) for word in sentence_nlp]\n",
    "spacy_pos_tagged"
   ]
  },
  {
   "cell_type": "code",
   "execution_count": 7,
   "metadata": {},
   "outputs": [
    {
     "data": {
      "text/html": [
       "<div>\n",
       "<style scoped>\n",
       "    .dataframe tbody tr th:only-of-type {\n",
       "        vertical-align: middle;\n",
       "    }\n",
       "\n",
       "    .dataframe tbody tr th {\n",
       "        vertical-align: top;\n",
       "    }\n",
       "\n",
       "    .dataframe thead th {\n",
       "        text-align: right;\n",
       "    }\n",
       "</style>\n",
       "<table border=\"1\" class=\"dataframe\">\n",
       "  <thead>\n",
       "    <tr style=\"text-align: right;\">\n",
       "      <th></th>\n",
       "      <th>0</th>\n",
       "      <th>1</th>\n",
       "      <th>2</th>\n",
       "      <th>3</th>\n",
       "      <th>4</th>\n",
       "      <th>5</th>\n",
       "    </tr>\n",
       "  </thead>\n",
       "  <tbody>\n",
       "    <tr>\n",
       "      <th>Word</th>\n",
       "      <td>This</td>\n",
       "      <td>is</td>\n",
       "      <td>NLP</td>\n",
       "      <td>text</td>\n",
       "      <td>processsing</td>\n",
       "      <td>checker</td>\n",
       "    </tr>\n",
       "    <tr>\n",
       "      <th>POS tag</th>\n",
       "      <td>DT</td>\n",
       "      <td>VBZ</td>\n",
       "      <td>NNP</td>\n",
       "      <td>NN</td>\n",
       "      <td>VBG</td>\n",
       "      <td>NN</td>\n",
       "    </tr>\n",
       "    <tr>\n",
       "      <th>Tag type</th>\n",
       "      <td>DET</td>\n",
       "      <td>VERB</td>\n",
       "      <td>PROPN</td>\n",
       "      <td>NOUN</td>\n",
       "      <td>VERB</td>\n",
       "      <td>NOUN</td>\n",
       "    </tr>\n",
       "  </tbody>\n",
       "</table>\n",
       "</div>"
      ],
      "text/plain": [
       "             0     1      2     3            4        5\n",
       "Word      This    is    NLP  text  processsing  checker\n",
       "POS tag     DT   VBZ    NNP    NN          VBG       NN\n",
       "Tag type   DET  VERB  PROPN  NOUN         VERB     NOUN"
      ]
     },
     "execution_count": 7,
     "metadata": {},
     "output_type": "execute_result"
    }
   ],
   "source": [
    "pd.DataFrame(spacy_pos_tagged, \n",
    "             columns=['Word', 'POS tag', 'Tag type']).T"
   ]
  },
  {
   "cell_type": "raw",
   "metadata": {},
   "source": [
    "# POS Tags\n",
    "\n",
    "The most common part of speech (POS) tag schemes\n",
    "\n",
    "| POS Tag | Description | Example |\n",
    "|---------|---------------------------------------|-----------------------------------------|\n",
    "| CC | coordinating conjunction | and |\n",
    "| CD | cardinal number | 1, third |\n",
    "| DT | determiner | the |\n",
    "| EX | existential there | there is |\n",
    "| FW | foreign word | d’hoevre |\n",
    "| IN | preposition/subordinating conjunction | in, of, like |\n",
    "| JJ | adjective | big |\n",
    "| JJR | adjective, comparative | bigger |\n",
    "| JJS | adjective, superlative | biggest |\n",
    "| LS | list marker | 1) |\n",
    "| MD | modal | could, will |\n",
    "| NN | noun, singular or mass | door |\n",
    "| NNS | noun plural | doors |\n",
    "| NNP | proper noun, singular | John |\n",
    "| NNPS | proper noun, plural | Vikings |\n",
    "| PDT | predeterminer | both the boys |\n",
    "| POS | possessive ending | friend‘s |\n",
    "| PRP | personal pronoun | I, he, it |\n",
    "| PRP\\$ | possessive pronoun | my, his |\n",
    "| RB | adverb | however, usually, naturally, here, good |\n",
    "| RBR | adverb, comparative | better |\n",
    "| RBS | adverb, superlative | best |\n",
    "| RP | particle | give up |\n",
    "| TO | to | to go, to him |\n",
    "| UH | interjection | uhhuhhuhh |\n",
    "| VB | verb, base form | take |\n",
    "| VBD | verb, past tense | took |\n",
    "| VBG | verb, gerund/present participle | taking |\n",
    "| VBN | verb, past participle | taken |\n",
    "| VBP | verb, sing. present, non-3d | take |\n",
    "| VBZ | verb, 3rd person sing. present | takes |\n",
    "| WDT | wh-determiner | which |\n",
    "| WP | wh-pronoun | who, what |\n",
    "| WP\\$ | possessive wh-pronoun | whose |\n",
    "| WRB | wh-abverb | where, when |"
   ]
  },
  {
   "cell_type": "code",
   "execution_count": null,
   "metadata": {},
   "outputs": [],
   "source": []
  }
 ],
 "metadata": {
  "kernelspec": {
   "display_name": "Python 3",
   "language": "python",
   "name": "python3"
  },
  "language_info": {
   "codemirror_mode": {
    "name": "ipython",
    "version": 3
   },
   "file_extension": ".py",
   "mimetype": "text/x-python",
   "name": "python",
   "nbconvert_exporter": "python",
   "pygments_lexer": "ipython3",
   "version": "3.6.5"
  }
 },
 "nbformat": 4,
 "nbformat_minor": 2
}
